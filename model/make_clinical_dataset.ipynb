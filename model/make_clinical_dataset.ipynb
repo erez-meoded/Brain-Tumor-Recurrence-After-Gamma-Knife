{
 "cells": [
  {
   "cell_type": "code",
   "execution_count": 3,
   "metadata": {},
   "outputs": [],
   "source": [
    "import pandas as pd\n",
    "import os\n",
    "\n",
    "# Read the Excel file\n",
    "excel_file = pd.ExcelFile('../data/Brain-TR-GammaKnife Clinical Information.xlsx')\n",
    "\n",
    "# Get the sheet names\n",
    "sheet_names = excel_file.sheet_names\n",
    "\n",
    "# Read each sheet into a DataFrame\n",
    "dfs = {}\n",
    "for sheet_name in sheet_names:\n",
    "    dfs[sheet_name] = excel_file.parse(sheet_name)\n",
    "\n",
    "# Access the DataFrame for a specific sheet\n",
    "df_cl = dfs['course_level']\n",
    "df_ll = dfs['lesion_level']\n",
    "df_ll = df_ll.drop('No.', axis=1)\n",
    "df_cl = df_cl.rename(columns={'Course #': 'Course'})\n",
    "df_ll = df_ll.rename(columns={'Treatment Course': 'Course'})\n",
    "\n"
   ]
  },
  {
   "cell_type": "code",
   "execution_count": 4,
   "metadata": {},
   "outputs": [
    {
     "data": {
      "text/html": [
       "<div>\n",
       "<style scoped>\n",
       "    .dataframe tbody tr th:only-of-type {\n",
       "        vertical-align: middle;\n",
       "    }\n",
       "\n",
       "    .dataframe tbody tr th {\n",
       "        vertical-align: top;\n",
       "    }\n",
       "\n",
       "    .dataframe thead th {\n",
       "        text-align: right;\n",
       "    }\n",
       "</style>\n",
       "<table border=\"1\" class=\"dataframe\">\n",
       "  <thead>\n",
       "    <tr style=\"text-align: right;\">\n",
       "      <th></th>\n",
       "      <th>pid</th>\n",
       "      <th>course</th>\n",
       "      <th>lesion_clinical</th>\n",
       "      <th>diagnosis (only want mets)</th>\n",
       "      <th>primary diagnosis</th>\n",
       "      <th>age at diagnosis</th>\n",
       "      <th>gender</th>\n",
       "      <th>lesion #</th>\n",
       "      <th>mri_type</th>\n",
       "      <th>duration_tx_to_imag (months)</th>\n",
       "      <th>fractions</th>\n",
       "    </tr>\n",
       "  </thead>\n",
       "  <tbody>\n",
       "    <tr>\n",
       "      <th>0</th>\n",
       "      <td>463</td>\n",
       "      <td>1</td>\n",
       "      <td>Lt Frontal</td>\n",
       "      <td>Brain Mets-Lung</td>\n",
       "      <td>Adenocarcinoma of the lung</td>\n",
       "      <td>60</td>\n",
       "      <td>Male</td>\n",
       "      <td>1</td>\n",
       "      <td>recurrence</td>\n",
       "      <td>10.713112</td>\n",
       "      <td>1</td>\n",
       "    </tr>\n",
       "  </tbody>\n",
       "</table>\n",
       "</div>"
      ],
      "text/plain": [
       "   pid  course lesion_clinical diagnosis (only want mets)  \\\n",
       "0  463       1      Lt Frontal           Brain Mets-Lung    \n",
       "\n",
       "            primary diagnosis  age at diagnosis gender  lesion #    mri_type  \\\n",
       "0  Adenocarcinoma of the lung                60   Male         1  recurrence   \n",
       "\n",
       "   duration_tx_to_imag (months)  fractions  \n",
       "0                     10.713112          1  "
      ]
     },
     "execution_count": 4,
     "metadata": {},
     "output_type": "execute_result"
    }
   ],
   "source": [
    "merged_df = df_cl.merge(df_ll, on=['unique_pt_id', 'Course'], how='right')\n",
    "clinical_a = merged_df.drop(['Unnamed: 6', 'Unnamed: 7', 'Unnamed: 8', 'Unnamed: 9', 'Lesion Name in NRRD files'], axis=1).rename(columns={'unique_pt_id':'pid','Lesion Location':'lesion_clinical'})\n",
    "columns = [col for col in clinical_a.columns]\n",
    "clinical_a = clinical_a[['pid', 'Course', 'lesion_clinical', 'Diagnosis (Only want Mets)', 'Primary Diagnosis', 'Age at Diagnosis', 'Gender', 'Lesion #', 'mri_type', 'duration_tx_to_imag (months)', 'Fractions']]\n",
    "clinical_a.columns = [c.lower() for c in ['pid', 'Course', 'lesion_clinical', 'Diagnosis (Only want Mets)', 'Primary Diagnosis', 'Age at Diagnosis', 'Gender', 'Lesion #', 'mri_type', 'duration_tx_to_imag (months)', 'Fractions']]\n",
    "clinical_a.head(1)"
   ]
  },
  {
   "cell_type": "code",
   "execution_count": 5,
   "metadata": {},
   "outputs": [
    {
     "data": {
      "text/html": [
       "<div>\n",
       "<style scoped>\n",
       "    .dataframe tbody tr th:only-of-type {\n",
       "        vertical-align: middle;\n",
       "    }\n",
       "\n",
       "    .dataframe tbody tr th {\n",
       "        vertical-align: top;\n",
       "    }\n",
       "\n",
       "    .dataframe thead th {\n",
       "        text-align: right;\n",
       "    }\n",
       "</style>\n",
       "<table border=\"1\" class=\"dataframe\">\n",
       "  <thead>\n",
       "    <tr style=\"text-align: right;\">\n",
       "      <th></th>\n",
       "      <th>pid</th>\n",
       "      <th>course</th>\n",
       "      <th>lesion_clinical</th>\n",
       "      <th>lesion_rtstruct</th>\n",
       "      <th>lesion</th>\n",
       "      <th>Diagnosis (Only want Mets)</th>\n",
       "      <th>Primary Diagnosis</th>\n",
       "      <th>Age at Diagnosis</th>\n",
       "      <th>Gender</th>\n",
       "      <th>Lesion #</th>\n",
       "      <th>label</th>\n",
       "      <th>duration_tx_to_imag (months)</th>\n",
       "      <th>Fractions</th>\n",
       "    </tr>\n",
       "  </thead>\n",
       "  <tbody>\n",
       "    <tr>\n",
       "      <th>0</th>\n",
       "      <td>151</td>\n",
       "      <td>1</td>\n",
       "      <td>1 Lt Inf Cerebellar1</td>\n",
       "      <td>1 Lt Inf Cerebellar 1</td>\n",
       "      <td>1 Left Inferior Cerebellar 1</td>\n",
       "      <td>Brain Mets -Lung</td>\n",
       "      <td>Adenocarcinoma of the lung</td>\n",
       "      <td>77</td>\n",
       "      <td>Female</td>\n",
       "      <td>1</td>\n",
       "      <td>stable</td>\n",
       "      <td>42.458101</td>\n",
       "      <td>1</td>\n",
       "    </tr>\n",
       "  </tbody>\n",
       "</table>\n",
       "</div>"
      ],
      "text/plain": [
       "   pid  course       lesion_clinical        lesion_rtstruct  \\\n",
       "0  151       1  1 Lt Inf Cerebellar1  1 Lt Inf Cerebellar 1   \n",
       "\n",
       "                         lesion Diagnosis (Only want Mets)  \\\n",
       "0  1 Left Inferior Cerebellar 1          Brain Mets -Lung    \n",
       "\n",
       "            Primary Diagnosis  Age at Diagnosis  Gender  Lesion #   label  \\\n",
       "0  Adenocarcinoma of the lung                77  Female         1  stable   \n",
       "\n",
       "   duration_tx_to_imag (months)  Fractions  \n",
       "0                     42.458101          1  "
      ]
     },
     "execution_count": 5,
     "metadata": {},
     "output_type": "execute_result"
    }
   ],
   "source": [
    "connector=pd.read_csv('../connector/connector.csv')\n",
    "clinical_b = connector.drop(columns=['date','lesion_clean','file_name'])\n",
    "clinical_b = clinical_b.rename(columns={'sid':'pid', 'mri_type': 'label'})\n",
    "columns = [col for col in clinical_b.columns]\n",
    "clinical_b = clinical_b[['pid', 'course','lesion_clinical','lesion_rtstruct', 'lesion', 'Diagnosis (Only want Mets)', 'Primary Diagnosis', 'Age at Diagnosis', 'Gender', 'Lesion #', 'label', 'duration_tx_to_imag (months)', 'Fractions']]\n",
    "clinical_b.head(1)"
   ]
  },
  {
   "cell_type": "code",
   "execution_count": 6,
   "metadata": {},
   "outputs": [
    {
     "data": {
      "text/plain": [
       "((244, 11), (244, 13))"
      ]
     },
     "execution_count": 6,
     "metadata": {},
     "output_type": "execute_result"
    }
   ],
   "source": [
    "clinical_a.shape,clinical_b.shape"
   ]
  },
  {
   "cell_type": "code",
   "execution_count": 7,
   "metadata": {},
   "outputs": [
    {
     "data": {
      "text/html": [
       "<div>\n",
       "<style scoped>\n",
       "    .dataframe tbody tr th:only-of-type {\n",
       "        vertical-align: middle;\n",
       "    }\n",
       "\n",
       "    .dataframe tbody tr th {\n",
       "        vertical-align: top;\n",
       "    }\n",
       "\n",
       "    .dataframe thead th {\n",
       "        text-align: right;\n",
       "    }\n",
       "</style>\n",
       "<table border=\"1\" class=\"dataframe\">\n",
       "  <thead>\n",
       "    <tr style=\"text-align: right;\">\n",
       "      <th></th>\n",
       "      <th>pid</th>\n",
       "      <th>course</th>\n",
       "      <th>lesion_clinical</th>\n",
       "      <th>lesion_rtstruct</th>\n",
       "      <th>lesion</th>\n",
       "      <th>metastasis</th>\n",
       "      <th>primary diagnosis</th>\n",
       "      <th>age at diagnosis</th>\n",
       "      <th>gender</th>\n",
       "      <th>lesion #</th>\n",
       "      <th>label</th>\n",
       "      <th>duration_tx_to_imag (months)</th>\n",
       "      <th>fractions</th>\n",
       "    </tr>\n",
       "  </thead>\n",
       "  <tbody>\n",
       "    <tr>\n",
       "      <th>0</th>\n",
       "      <td>151</td>\n",
       "      <td>1</td>\n",
       "      <td>1 Lt Inf Cerebellar1</td>\n",
       "      <td>1 Lt Inf Cerebellar 1</td>\n",
       "      <td>1 Left Inferior Cerebellar 1</td>\n",
       "      <td>Brain Mets -Lung</td>\n",
       "      <td>Adenocarcinoma of the lung</td>\n",
       "      <td>77</td>\n",
       "      <td>Female</td>\n",
       "      <td>1</td>\n",
       "      <td>stable</td>\n",
       "      <td>42.458101</td>\n",
       "      <td>1</td>\n",
       "    </tr>\n",
       "  </tbody>\n",
       "</table>\n",
       "</div>"
      ],
      "text/plain": [
       "   pid  course       lesion_clinical        lesion_rtstruct  \\\n",
       "0  151       1  1 Lt Inf Cerebellar1  1 Lt Inf Cerebellar 1   \n",
       "\n",
       "                         lesion         metastasis  \\\n",
       "0  1 Left Inferior Cerebellar 1  Brain Mets -Lung    \n",
       "\n",
       "            primary diagnosis  age at diagnosis  gender  lesion #   label  \\\n",
       "0  Adenocarcinoma of the lung                77  Female         1  stable   \n",
       "\n",
       "   duration_tx_to_imag (months)  fractions  \n",
       "0                     42.458101          1  "
      ]
     },
     "execution_count": 7,
     "metadata": {},
     "output_type": "execute_result"
    }
   ],
   "source": [
    "clinical = clinical_b.merge(clinical_a, on=['pid', 'course','lesion_clinical'], how='inner')\n",
    "clinical = clinical.drop(columns=['diagnosis (only want mets)','primary diagnosis','age at diagnosis','gender','lesion #','mri_type','duration_tx_to_imag (months)_y','fractions'], axis=1)\n",
    "clinical = clinical.rename(columns={'duration_tx_to_imag (months)_x':'duration_tx_to_imag (months)', 'Diagnosis (Only want Mets)': 'metastasis'})\n",
    "clinical.columns = clinical.columns.str.lower()\n",
    "clinical.head(1)"
   ]
  },
  {
   "cell_type": "code",
   "execution_count": 8,
   "metadata": {},
   "outputs": [],
   "source": [
    "clinical.to_csv('clinical_basic.csv', index=False)"
   ]
  },
  {
   "cell_type": "code",
   "execution_count": 9,
   "metadata": {},
   "outputs": [],
   "source": [
    "clinical['metastasis'] = clinical['metastasis'].str.replace('Mets', '').str.replace('mets', '').str.replace('Brain', '').str.replace('brain', '').str.replace('-', '').str.strip()\n"
   ]
  },
  {
   "cell_type": "code",
   "execution_count": 10,
   "metadata": {},
   "outputs": [
    {
     "data": {
      "text/plain": [
       "array(['Lung', 'Uterine', 'Melanoma', 'Met', 'Breast', 'GK   2 lesions',\n",
       "       'Renal cell', 'Lung/Urothelial', 'MetPost op cavity',\n",
       "       'Endometrial Ca', 'Ovary', 'RCC', 'Esophageal',\n",
       "       'Breast with Large Frontal Met', 'Kidney', 'Urothelial'],\n",
       "      dtype=object)"
      ]
     },
     "execution_count": 10,
     "metadata": {},
     "output_type": "execute_result"
    }
   ],
   "source": [
    "unique_values = clinical['metastasis'].unique()\n",
    "unique_values"
   ]
  },
  {
   "cell_type": "code",
   "execution_count": 11,
   "metadata": {},
   "outputs": [
    {
     "data": {
      "text/plain": [
       "16"
      ]
     },
     "execution_count": 11,
     "metadata": {},
     "output_type": "execute_result"
    }
   ],
   "source": [
    "unique_count = clinical['metastasis'].nunique()\n",
    "unique_count\n"
   ]
  },
  {
   "cell_type": "code",
   "execution_count": 12,
   "metadata": {},
   "outputs": [
    {
     "data": {
      "text/plain": [
       "metastasis\n",
       "Breast                           42\n",
       "Breast with Large Frontal Met     1\n",
       "Endometrial Ca                    1\n",
       "Esophageal                        4\n",
       "GK   2 lesions                    3\n",
       "Kidney                            2\n",
       "Lung                             95\n",
       "Lung/Urothelial                   3\n",
       "Melanoma                         17\n",
       "Met                              23\n",
       "MetPost op cavity                 4\n",
       "Ovary                             8\n",
       "RCC                               8\n",
       "Renal cell                       31\n",
       "Urothelial                        1\n",
       "Uterine                           1\n",
       "dtype: int64"
      ]
     },
     "execution_count": 12,
     "metadata": {},
     "output_type": "execute_result"
    }
   ],
   "source": [
    "class_counts = clinical.groupby('metastasis').size()\n",
    "class_counts\n"
   ]
  },
  {
   "cell_type": "code",
   "execution_count": null,
   "metadata": {},
   "outputs": [],
   "source": [
    "# Function to map the old diagnosis to new categories\n",
    "def map_diagnosis(diagnosis):\n",
    "    if \"Breast\" in diagnosis:\n",
    "        return \"Breast\"\n",
    "    elif diagnosis in [\"Kidney\", \"RCC\", \"Renal cell\", \"Urothelial\", \"Uterine\"]:\n",
    "        return \"Genitourinary\"\n",
    "    elif diagnosis in [\"Endometrial Ca\", \"Ovary\"]:\n",
    "        return \"Gynecological\"\n",
    "    elif diagnosis == \"Esophageal\":\n",
    "        return \"Gastrointestinal\"\n",
    "    # elif diagnosis in [\"Met\", \"MetPost op cavity\"]:\n",
    "    #     return \"Metastatic Cancer\"\n",
    "    elif diagnosis in [\"Lung\", \"Lung/Urothelial\"]:\n",
    "        return \"Lung\"\n",
    "    else:\n",
    "        return diagnosis  # For categories like \"Melanoma\" that remain unchanged\n",
    "\n",
    "# Apply the mapping function to the \"Diagnosis (Only want Mets)\" column\n",
    "merged_df[\"Diagnosis (Only want Mets)\"] = merged_df[\"Diagnosis (Only want Mets)\"].apply(map_diagnosis)\n",
    "\n",
    "merged_df.head(1)\n"
   ]
  },
  {
   "cell_type": "code",
   "execution_count": null,
   "metadata": {},
   "outputs": [],
   "source": [
    "merged_df"
   ]
  },
  {
   "cell_type": "code",
   "execution_count": 13,
   "metadata": {},
   "outputs": [],
   "source": [
    "clinical.to_csv('clinical_clean_met_1.csv', index=False)"
   ]
  },
  {
   "cell_type": "code",
   "execution_count": 16,
   "metadata": {},
   "outputs": [],
   "source": [
    "object_columns = clinical.select_dtypes(include='object').columns\n",
    "clinical[object_columns] = clinical[object_columns].astype('category')"
   ]
  },
  {
   "cell_type": "code",
   "execution_count": 17,
   "metadata": {},
   "outputs": [
    {
     "name": "stdout",
     "output_type": "stream",
     "text": [
      "<class 'pandas.core.frame.DataFrame'>\n",
      "RangeIndex: 244 entries, 0 to 243\n",
      "Data columns (total 12 columns):\n",
      " #   Column                        Non-Null Count  Dtype   \n",
      "---  ------                        --------------  -----   \n",
      " 0   pid                           244 non-null    int64   \n",
      " 1   course                        244 non-null    int64   \n",
      " 2   lesion_clinical               244 non-null    category\n",
      " 3   lesion                        244 non-null    category\n",
      " 4   metastasis                    244 non-null    category\n",
      " 5   primary diagnosis             244 non-null    category\n",
      " 6   age at diagnosis              244 non-null    int64   \n",
      " 7   gender                        244 non-null    category\n",
      " 8   lesion #                      244 non-null    int64   \n",
      " 9   label                         244 non-null    category\n",
      " 10  duration_tx_to_imag (months)  244 non-null    float64 \n",
      " 11  fractions                     244 non-null    int64   \n",
      "dtypes: category(6), float64(1), int64(5)\n",
      "memory usage: 25.7 KB\n"
     ]
    }
   ],
   "source": [
    "clinical.info()"
   ]
  },
  {
   "cell_type": "code",
   "execution_count": null,
   "metadata": {},
   "outputs": [],
   "source": [
    "merged_df.to_csv('output_merged_pd.csv', index=False)"
   ]
  },
  {
   "cell_type": "code",
   "execution_count": null,
   "metadata": {},
   "outputs": [],
   "source": [
    "pd.read_csv('output_merged_pd.csv', index_col=0)"
   ]
  },
  {
   "cell_type": "code",
   "execution_count": 19,
   "metadata": {},
   "outputs": [
    {
     "data": {
      "text/html": [
       "<div>\n",
       "<style scoped>\n",
       "    .dataframe tbody tr th:only-of-type {\n",
       "        vertical-align: middle;\n",
       "    }\n",
       "\n",
       "    .dataframe tbody tr th {\n",
       "        vertical-align: top;\n",
       "    }\n",
       "\n",
       "    .dataframe thead th {\n",
       "        text-align: right;\n",
       "    }\n",
       "</style>\n",
       "<table border=\"1\" class=\"dataframe\">\n",
       "  <thead>\n",
       "    <tr style=\"text-align: right;\">\n",
       "      <th></th>\n",
       "      <th>pid</th>\n",
       "      <th>course</th>\n",
       "      <th>lesion_clinical</th>\n",
       "      <th>lesion_rtstruct</th>\n",
       "      <th>lesion</th>\n",
       "      <th>metastasis</th>\n",
       "      <th>primary diagnosis</th>\n",
       "      <th>age at diagnosis</th>\n",
       "      <th>gender</th>\n",
       "      <th>lesion #</th>\n",
       "      <th>label</th>\n",
       "      <th>duration_tx_to_imag (months)</th>\n",
       "      <th>fractions</th>\n",
       "    </tr>\n",
       "  </thead>\n",
       "  <tbody>\n",
       "    <tr>\n",
       "      <th>0</th>\n",
       "      <td>151</td>\n",
       "      <td>1</td>\n",
       "      <td>1 Lt Inf Cerebellar1</td>\n",
       "      <td>1 Lt Inf Cerebellar 1</td>\n",
       "      <td>1 Left Inferior Cerebellar 1</td>\n",
       "      <td>Lung</td>\n",
       "      <td>Adenocarcinoma of the lung</td>\n",
       "      <td>77</td>\n",
       "      <td>Female</td>\n",
       "      <td>1</td>\n",
       "      <td>stable</td>\n",
       "      <td>42.458101</td>\n",
       "      <td>1</td>\n",
       "    </tr>\n",
       "  </tbody>\n",
       "</table>\n",
       "</div>"
      ],
      "text/plain": [
       "   pid  course       lesion_clinical        lesion_rtstruct  \\\n",
       "0  151       1  1 Lt Inf Cerebellar1  1 Lt Inf Cerebellar 1   \n",
       "\n",
       "                         lesion metastasis           primary diagnosis  \\\n",
       "0  1 Left Inferior Cerebellar 1       Lung  Adenocarcinoma of the lung   \n",
       "\n",
       "   age at diagnosis  gender  lesion #   label  duration_tx_to_imag (months)  \\\n",
       "0                77  Female         1  stable                     42.458101   \n",
       "\n",
       "   fractions  \n",
       "0          1  "
      ]
     },
     "execution_count": 19,
     "metadata": {},
     "output_type": "execute_result"
    }
   ],
   "source": [
    "clinical.head(1)"
   ]
  },
  {
   "cell_type": "code",
   "execution_count": null,
   "metadata": {},
   "outputs": [],
   "source": []
  },
  {
   "cell_type": "code",
   "execution_count": null,
   "metadata": {},
   "outputs": [],
   "source": []
  },
  {
   "cell_type": "code",
   "execution_count": 14,
   "metadata": {},
   "outputs": [],
   "source": [
    "#read the metadata\n",
    "import pandas as pd\n",
    "df = pd.read_csv(\"../data/metadata.csv\")\n"
   ]
  },
  {
   "cell_type": "code",
   "execution_count": 18,
   "metadata": {},
   "outputs": [],
   "source": [
    "import SimpleITK as sitk\n",
    "import pydicom\n",
    "import glob\n",
    "import os\n",
    "from rt_utils import RTStructBuilder\n",
    "import re\n",
    "import numpy as np\n",
    "\n",
    "grouped_df = df.groupby(['pid', 'Study Date'])\n",
    "\n",
    "rt_lesions = pd.DataFrame(columns=['pid', 'date', 'lesion', 'lesion_clean', 'course','file_name','sex','height','weight','age']) \n",
    "\n",
    "# Iterate over each group\n",
    "for group_name, group_data in grouped_df:\n",
    "    # Get the 'SOP Class Name' and 'File Location' for each group\n",
    "    folders_dic = dict(zip(group_data['SOP Class Name'], group_data['File Location']))\n",
    "    \n",
    "    mri_folder = os.path.join('../data',folders_dic['MR Image Storage'])\n",
    "    str_folder = os.path.join('../data',folders_dic['RT Structure Set Storage'])\n",
    "\n",
    "    # STRUCT\n",
    "    str_file = glob.glob(os.path.join(str_folder, \"*.dcm\"))[0]   \n",
    "    rtstruct = RTStructBuilder.create_from(dicom_series_path=mri_folder,rt_struct_path=str_file)\n",
    "    names = rtstruct.get_roi_names()\n",
    "    lesions = [name for name in names if \"Skull\" not in name] \n",
    "\n",
    "    try:\n",
    "        sex = rtstruct.ds.PatientSex\n",
    "    except AttributeError:\n",
    "        sex = 'NA'\n",
    "\n",
    "    try:\n",
    "        height = np.round(rtstruct.ds.PatientSize, 2)\n",
    "    except (AttributeError, TypeError):\n",
    "        height = -1.0\n",
    "\n",
    "    try:\n",
    "        weight = int(rtstruct.ds.PatientWeight)\n",
    "    except (AttributeError, ValueError):\n",
    "        weight = -1\n",
    "\n",
    "    try:\n",
    "        age = int(''.join(re.findall(r'\\d+', rtstruct.ds.PatientAge)))\n",
    "    except (AttributeError, ValueError):\n",
    "        age = -1\n",
    "\n",
    "    for lesion in lesions:\n",
    "        \n",
    "        #build a dataframe\n",
    "        pid, date = group_name\n",
    "        course = int(group_data[group_data.Modality == 'RTSTRUCT']['Series Description'].values[0][-1])\n",
    "        lesion_clean = re.sub('[^A-Za-z]+', '', lesion)\n",
    "        file_name=f\"{pid}_{course}_{lesion_clean}\"  \n",
    "        new_row = [pid, date, lesion, lesion_clean,course,file_name,sex,height,weight,age]\n",
    "        rt_lesions.loc[len(rt_lesions)] = new_row\n",
    "\n"
   ]
  },
  {
   "cell_type": "code",
   "execution_count": 36,
   "metadata": {},
   "outputs": [
    {
     "data": {
      "text/plain": [
       "(244, 21)"
      ]
     },
     "execution_count": 36,
     "metadata": {},
     "output_type": "execute_result"
    }
   ],
   "source": [
    "clinical=clinical.merge(rt_lesions,left_on=['pid','course','lesion_rtstruct'], right_on=['pid','course','lesion'], how='inner')\n",
    "clinical.shape"
   ]
  },
  {
   "cell_type": "code",
   "execution_count": 37,
   "metadata": {},
   "outputs": [
    {
     "data": {
      "text/html": [
       "<div>\n",
       "<style scoped>\n",
       "    .dataframe tbody tr th:only-of-type {\n",
       "        vertical-align: middle;\n",
       "    }\n",
       "\n",
       "    .dataframe tbody tr th {\n",
       "        vertical-align: top;\n",
       "    }\n",
       "\n",
       "    .dataframe thead th {\n",
       "        text-align: right;\n",
       "    }\n",
       "</style>\n",
       "<table border=\"1\" class=\"dataframe\">\n",
       "  <thead>\n",
       "    <tr style=\"text-align: right;\">\n",
       "      <th></th>\n",
       "      <th>pid</th>\n",
       "      <th>course</th>\n",
       "      <th>lesion_clinical</th>\n",
       "      <th>lesion_rtstruct</th>\n",
       "      <th>lesion</th>\n",
       "      <th>metastasis</th>\n",
       "      <th>primary diagnosis</th>\n",
       "      <th>age at diagnosis</th>\n",
       "      <th>gender</th>\n",
       "      <th>lesion #</th>\n",
       "      <th>label</th>\n",
       "      <th>duration_tx_to_imag (months)</th>\n",
       "      <th>fractions</th>\n",
       "      <th>sex</th>\n",
       "      <th>height</th>\n",
       "      <th>weight</th>\n",
       "      <th>age</th>\n",
       "    </tr>\n",
       "  </thead>\n",
       "  <tbody>\n",
       "    <tr>\n",
       "      <th>0</th>\n",
       "      <td>151</td>\n",
       "      <td>1</td>\n",
       "      <td>1 Lt Inf Cerebellar1</td>\n",
       "      <td>1 Lt Inf Cerebellar 1</td>\n",
       "      <td>1 Left Inferior Cerebellar 1</td>\n",
       "      <td>Lung</td>\n",
       "      <td>Adenocarcinoma of the lung</td>\n",
       "      <td>77</td>\n",
       "      <td>Female</td>\n",
       "      <td>1</td>\n",
       "      <td>stable</td>\n",
       "      <td>42.458101</td>\n",
       "      <td>1</td>\n",
       "      <td>F</td>\n",
       "      <td>1.69</td>\n",
       "      <td>70</td>\n",
       "      <td>78</td>\n",
       "    </tr>\n",
       "  </tbody>\n",
       "</table>\n",
       "</div>"
      ],
      "text/plain": [
       "   pid  course       lesion_clinical        lesion_rtstruct  \\\n",
       "0  151       1  1 Lt Inf Cerebellar1  1 Lt Inf Cerebellar 1   \n",
       "\n",
       "                         lesion metastasis           primary diagnosis  \\\n",
       "0  1 Left Inferior Cerebellar 1       Lung  Adenocarcinoma of the lung   \n",
       "\n",
       "   age at diagnosis  gender  lesion #   label  duration_tx_to_imag (months)  \\\n",
       "0                77  Female         1  stable                     42.458101   \n",
       "\n",
       "   fractions sex  height  weight  age  \n",
       "0          1   F    1.69      70   78  "
      ]
     },
     "execution_count": 37,
     "metadata": {},
     "output_type": "execute_result"
    }
   ],
   "source": [
    "clinical=clinical.drop(columns=['file_name','lesion_clean','date','lesion_y'], axis=1)\n",
    "clinical=clinical.rename(columns={'lesion_x':'lesion'})\n",
    "clinical.head(1)"
   ]
  },
  {
   "cell_type": "code",
   "execution_count": 38,
   "metadata": {},
   "outputs": [],
   "source": [
    "clinical.to_csv('clinical_clean_met_1_with_height.csv', index=False)"
   ]
  },
  {
   "cell_type": "code",
   "execution_count": 40,
   "metadata": {},
   "outputs": [
    {
     "data": {
      "text/html": [
       "<div>\n",
       "<style scoped>\n",
       "    .dataframe tbody tr th:only-of-type {\n",
       "        vertical-align: middle;\n",
       "    }\n",
       "\n",
       "    .dataframe tbody tr th {\n",
       "        vertical-align: top;\n",
       "    }\n",
       "\n",
       "    .dataframe thead th {\n",
       "        text-align: right;\n",
       "    }\n",
       "</style>\n",
       "<table border=\"1\" class=\"dataframe\">\n",
       "  <thead>\n",
       "    <tr style=\"text-align: right;\">\n",
       "      <th></th>\n",
       "      <th>pid</th>\n",
       "      <th>course</th>\n",
       "      <th>lesion_clinical</th>\n",
       "      <th>lesion_rtstruct</th>\n",
       "      <th>lesion</th>\n",
       "      <th>metastasis</th>\n",
       "      <th>primary diagnosis</th>\n",
       "      <th>age at diagnosis</th>\n",
       "      <th>gender</th>\n",
       "      <th>lesion #</th>\n",
       "      <th>label</th>\n",
       "      <th>duration_tx_to_imag (months)</th>\n",
       "      <th>fractions</th>\n",
       "      <th>sex</th>\n",
       "      <th>height</th>\n",
       "      <th>weight</th>\n",
       "      <th>age</th>\n",
       "    </tr>\n",
       "  </thead>\n",
       "  <tbody>\n",
       "    <tr>\n",
       "      <th>0</th>\n",
       "      <td>151</td>\n",
       "      <td>1</td>\n",
       "      <td>1 Lt Inf Cerebellar1</td>\n",
       "      <td>1 Lt Inf Cerebellar 1</td>\n",
       "      <td>1 Left Inferior Cerebellar 1</td>\n",
       "      <td>Lung</td>\n",
       "      <td>Adenocarcinoma of the lung</td>\n",
       "      <td>77</td>\n",
       "      <td>Female</td>\n",
       "      <td>1</td>\n",
       "      <td>stable</td>\n",
       "      <td>42.458101</td>\n",
       "      <td>1</td>\n",
       "      <td>F</td>\n",
       "      <td>1.69</td>\n",
       "      <td>70</td>\n",
       "      <td>78</td>\n",
       "    </tr>\n",
       "  </tbody>\n",
       "</table>\n",
       "</div>"
      ],
      "text/plain": [
       "   pid  course       lesion_clinical        lesion_rtstruct  \\\n",
       "0  151       1  1 Lt Inf Cerebellar1  1 Lt Inf Cerebellar 1   \n",
       "\n",
       "                         lesion metastasis           primary diagnosis  \\\n",
       "0  1 Left Inferior Cerebellar 1       Lung  Adenocarcinoma of the lung   \n",
       "\n",
       "   age at diagnosis  gender  lesion #   label  duration_tx_to_imag (months)  \\\n",
       "0                77  Female         1  stable                     42.458101   \n",
       "\n",
       "   fractions sex  height  weight  age  \n",
       "0          1   F    1.69      70   78  "
      ]
     },
     "execution_count": 40,
     "metadata": {},
     "output_type": "execute_result"
    }
   ],
   "source": [
    "clinical.head(1)"
   ]
  }
 ],
 "metadata": {
  "kernelspec": {
   "display_name": "r",
   "language": "python",
   "name": "python3"
  },
  "language_info": {
   "codemirror_mode": {
    "name": "ipython",
    "version": 3
   },
   "file_extension": ".py",
   "mimetype": "text/x-python",
   "name": "python",
   "nbconvert_exporter": "python",
   "pygments_lexer": "ipython3",
   "version": "3.11.2"
  }
 },
 "nbformat": 4,
 "nbformat_minor": 2
}
